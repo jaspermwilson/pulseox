{
 "cells": [
  {
   "cell_type": "code",
   "execution_count": 3,
   "metadata": {},
   "outputs": [],
   "source": [
    "import matplotlib.pyplot as plt\n",
    "import numpy as np\n",
    "from random import random"
   ]
  },
  {
   "cell_type": "code",
   "execution_count": 4,
   "metadata": {},
   "outputs": [],
   "source": [
    "bdf = np.loadtxt(\"oxygenation_b.csv\", delimiter=\",\")\n",
    "wdf = np.loadtxt(\"oxygenation_w.csv\", delimiter=\",\")"
   ]
  },
  {
   "cell_type": "code",
   "execution_count": 5,
   "metadata": {},
   "outputs": [
    {
     "name": "stdout",
     "output_type": "stream",
     "text": [
      "black false alarm %:  0.06361323155216285\n",
      "black correct detection %:  0.21765913757700206\n"
     ]
    }
   ],
   "source": [
    "BFA = 0\n",
    "BFN = 0\n",
    "BCD = 0\n",
    "BTN = 0\n",
    "for i in bdf:\n",
    "    if i[0] < 91.5:\n",
    "        if i[1]  < 91.5:\n",
    "            BCD += 1\n",
    "        else:\n",
    "            BFA += 1\n",
    "    else:\n",
    "        if i[1] < 91.5:\n",
    "            BFN += 1\n",
    "        else:\n",
    "            BTN += 1\n",
    "\n",
    "BHP = BCD + BFN\n",
    "BNU = BFA + BTN\n",
    "\n",
    "FA_b = BFA/BNU\n",
    "CD_b = BCD/BHP\n",
    "\n",
    "print(\"black false alarm %: \", FA_b)\n",
    "print(\"black correct detection %: \", CD_b)"
   ]
  },
  {
   "cell_type": "code",
   "execution_count": 6,
   "metadata": {},
   "outputs": [
    {
     "name": "stdout",
     "output_type": "stream",
     "text": [
      "white false alarm %:  0.06690140845070422\n",
      "white correct detection %:  0.34657398212512414\n"
     ]
    }
   ],
   "source": [
    "WFA = 0\n",
    "WFN = 0\n",
    "WCD = 0\n",
    "WTN = 0\n",
    "for i in wdf:\n",
    "    if i[0] < 91.5:\n",
    "        if i[1]  < 91.5:\n",
    "            WCD += 1\n",
    "        else:\n",
    "            WFA += 1\n",
    "    else:\n",
    "        if i[1] < 91.5:\n",
    "            WFN += 1\n",
    "        else:\n",
    "            WTN += 1\n",
    "\n",
    "WHP = WCD + WFN\n",
    "WNU = WFA + WTN\n",
    "\n",
    "FA_w = WFA/WNU\n",
    "CD_w = WCD/WHP\n",
    "\n",
    "print(\"white false alarm %: \", FA_w)\n",
    "print(\"white correct detection %: \", CD_w)"
   ]
  },
  {
   "cell_type": "code",
   "execution_count": 7,
   "metadata": {},
   "outputs": [
    {
     "name": "stdout",
     "output_type": "stream",
     "text": [
      "total false alarm %:  0.06641651031894934\n",
      "total correct detection %:  0.30455153949129854\n"
     ]
    }
   ],
   "source": [
    "THP = BHP + WHP\n",
    "TNU = BNU + WNU\n",
    "TFA = BFA + WFA\n",
    "TCD = BCD + WCD\n",
    "\n",
    "FA_all = TFA/TNU\n",
    "CD_all = TCD/THP\n",
    "\n",
    "print(\"total false alarm %: \", FA_all)\n",
    "print(\"total correct detection %: \", CD_all)"
   ]
  },
  {
   "cell_type": "code",
   "execution_count": 8,
   "metadata": {},
   "outputs": [],
   "source": [
    "threshold_list = [88.5, 89.5, 90.5, 91.5, 92.5, 93.5, 94.5, 95.5, 96.5]\n",
    "\n",
    "p_FA_w = []\n",
    "p_CD_w = []\n",
    "p_FA_b = []\n",
    "p_CD_b = []\n",
    "p_FA_all = []\n",
    "p_CD_all = []\n",
    "\n",
    "for j, threshold in enumerate(threshold_list):\n",
    "    #white\n",
    "    WFA = 0\n",
    "    WFN = 0\n",
    "    WCD = 0\n",
    "    WTN = 0\n",
    "    for i in wdf:\n",
    "        if i[0] < threshold:\n",
    "            if i[1]  < threshold:\n",
    "                WCD += 1\n",
    "            else:\n",
    "                WFA += 1\n",
    "        else:\n",
    "            if i[1] < threshold:\n",
    "                WFN += 1\n",
    "            else:\n",
    "                WTN += 1\n",
    "\n",
    "    WHP = WCD + WFN\n",
    "    WNU = WFA + WTN\n",
    "\n",
    "    p_FA_w.append( WFA/WNU)\n",
    "    p_CD_w.append(WCD/WHP)\n",
    "\n",
    "    #black\n",
    "    BFA = 0\n",
    "    BFN = 0\n",
    "    BCD = 0\n",
    "    BTN = 0\n",
    "    for i in bdf:\n",
    "        if i[0] < threshold:\n",
    "            if i[1]  < threshold:\n",
    "                BCD += 1\n",
    "            else:\n",
    "                BFA += 1\n",
    "        else:\n",
    "            if i[1] < threshold:\n",
    "                BFN += 1\n",
    "            else:\n",
    "                BTN += 1\n",
    "\n",
    "    BHP = BCD + BFN\n",
    "    BNU = BFA + BTN\n",
    "\n",
    "    p_FA_b.append(BFA/BNU)\n",
    "    p_CD_b.append(BCD/BHP)\n",
    "\n",
    "    #total\n",
    "    THP = BHP + WHP\n",
    "    TNU = BNU + WNU\n",
    "    TFA = BFA + WFA\n",
    "    TCD = BCD + WCD\n",
    "\n",
    "    p_FA_all.append(TFA/TNU) \n",
    "    p_CD_all.append(TCD/THP) \n"
   ]
  },
  {
   "cell_type": "code",
   "execution_count": 9,
   "metadata": {},
   "outputs": [
    {
     "data": {
      "image/png": "[encoded data removed]",
      "text/plain": [
       "<Figure size 432x288 with 1 Axes>"
      ]
     },
     "metadata": {
      "needs_background": "light"
     },
     "output_type": "display_data"
    }
   ],
   "source": [
    "# Plot the results\n",
    "plt.figure(1)\n",
    "plt.plot(p_FA_w, p_CD_w, 'rs', label=\"White\", linewidth=2)\n",
    "plt.plot(p_FA_b, p_CD_b, 'ko', label=\"Black\", linewidth=2)\n",
    "plt.plot(p_FA_all, p_CD_all, 'g.', label=\"All\", linewidth=2)\n",
    "plt.grid('on')\n",
    "plt.xlabel('Probability of False Alarm', fontsize=16)\n",
    "plt.ylabel('Probability of Correct Detection', fontsize=16)\n",
    "plt.xticks(np.arange(0, 1.01, 0.1)) \n",
    "plt.yticks(np.arange(0, 1.01, 0.1))\n",
    "plt.legend(fontsize=16)\n",
    "for i, threshold in enumerate(threshold_list):\n",
    "\n",
    "    # Put the threshold on each dot, connect the white/Black points for \n",
    "    # that correspond to the same threshold.\n",
    "    plt.text(p_FA_w[i], p_CD_w[i], str(threshold), horizontalalignment='right')\n",
    "    plt.text(p_FA_b[i], p_CD_b[i], str(threshold), horizontalalignment='left')\n",
    "    plt.plot([p_FA_b[i],p_FA_w[i]], [p_CD_b[i],p_CD_w[i]], 'b-', linewidth=2)"
   ]
  },
  {
   "cell_type": "code",
   "execution_count": 10,
   "metadata": {},
   "outputs": [
    {
     "name": "stdout",
     "output_type": "stream",
     "text": [
      "[1.         0.92000102 0.81030484 0.76186497 0.73653684 0.71508511\n",
      " 0.70870655 0.7716946  1.        ]\n",
      "[1.         0.90571803 0.76454029 0.72032743 0.709963   0.69302425\n",
      " 0.70413098 0.80526543 1.        ]\n",
      "[1.         0.93333333 0.88790425 0.84595409 0.78020771 0.76643054\n",
      " 0.64069226 0.38859715 1.        ]\n"
     ]
    }
   ],
   "source": [
    "ones = np.ones(9)\n",
    "lessthan = ones - p_CD_all\n",
    "sums = lessthan + p_FA_all\n",
    "print(sums)\n",
    "lessthanw = ones - p_CD_w\n",
    "sumsw = lessthanw + p_FA_w\n",
    "print(sumsw)\n",
    "lessthanb = ones - p_CD_b\n",
    "sumsb = lessthanb + p_FA_b\n",
    "print(sumsb)"
   ]
  },
  {
   "cell_type": "code",
   "execution_count": 11,
   "metadata": {},
   "outputs": [
    {
     "data": {
      "text/plain": [
       "<matplotlib.legend.Legend at 0x2217835ae50>"
      ]
     },
     "execution_count": 11,
     "metadata": {},
     "output_type": "execute_result"
    },
    {
     "data": {
      "image/png": "[encoded data removed]",
      "text/plain": [
       "<Figure size 432x288 with 2 Axes>"
      ]
     },
     "metadata": {
      "needs_background": "light"
     },
     "output_type": "display_data"
    }
   ],
   "source": [
    "import numpy as np\n",
    "import matplotlib.pyplot as plt\n",
    "import matplotlib\n",
    "\n",
    "# These are commands I always use to format plots to have a larger font size and\n",
    "# to refresh automatically as they're changed.\n",
    "matplotlib.rc('xtick', labelsize=16) \n",
    "matplotlib.rc('ytick', labelsize=16) \n",
    "plt.ion()\n",
    "\n",
    "\n",
    "# Our two hypotheses:\n",
    "# H0: the \"normal\"\n",
    "#     Arterial Oxygen Saturation is >= 88.0\n",
    "# H1: the \"abnormal\", what we want to be alarmed about\n",
    "#     Arterial Oxygen Saturation is < 88.0\n",
    "\n",
    "# Load data: There are two files separated by race.\n",
    "# I use _w and _b for the white and Black patient data, respectively\n",
    "data_w = np.loadtxt(\"oxygenation_w.csv\", delimiter=', ', comments='#')\n",
    "data_b = np.loadtxt(\"oxygenation_b.csv\", delimiter=', ', comments='#')\n",
    "\n",
    "# The 0th column is the pulse ox value.\n",
    "# The 1st column is the arterial oxygen saturation.  \n",
    "#   We take the arterial Ox Sat as the \"truth\" because it is the \"gold standard\"\n",
    "#   for monitoring of oxygen saturation in the blood.\n",
    "# Each row is one patient.  \n",
    "pulseOx_w = data_w[:,0]\n",
    "arterOx_w = data_w[:,1]\n",
    "pulseOx_b = data_b[:,0]\n",
    "arterOx_b = data_b[:,1]\n",
    "\n",
    "# Plot the data\n",
    "plt.figure(1)\n",
    "plt.clf()\n",
    "plt.subplot(1,2,1)  # Subplot with 1 row, 2 columns, currently plotting into #1.\n",
    "plt.plot(pulseOx_w, arterOx_w, 'rx', label=\"White\", linewidth=2)\n",
    "plt.grid('on')\n",
    "plt.ylim([68,100])  # Have a uniform y limits for both subplots.\n",
    "plt.xlabel('Pulse Ox Meast (%)', fontsize=16)\n",
    "plt.ylabel('Arterial Ox Saturation (%)', fontsize=16)\n",
    "plt.legend(fontsize=16)\n",
    "\n",
    "plt.subplot(1,2,2)  # Subplot with 1 row, 2 columns, currently plotting into #2.\n",
    "plt.plot(pulseOx_b, arterOx_b, 'bx', label=\"Black\", linewidth=2)\n",
    "plt.xlabel('Pulse Ox Meast (%)', fontsize=16)\n",
    "plt.grid('on')\n",
    "plt.ylim([68,100])  # Have a uniform y limits for both subplots.\n",
    "plt.legend(fontsize=16)"
   ]
  }
 ],
 "metadata": {
  "interpreter": {
   "hash": "63fd5069d213b44bf678585dea6b12cceca9941eaf7f819626cde1f2670de90d"
  },
  "kernelspec": {
   "display_name": "Python 3.9.0 64-bit",
   "name": "python3"
  },
  "language_info": {
   "codemirror_mode": {
    "name": "ipython",
    "version": 3
   },
   "file_extension": ".py",
   "mimetype": "text/x-python",
   "name": "python",
   "nbconvert_exporter": "python",
   "pygments_lexer": "ipython3",
   "version": "3.9.0"
  },
  "orig_nbformat": 4
 },
 "nbformat": 4,
 "nbformat_minor": 2
}
